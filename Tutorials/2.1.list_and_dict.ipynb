{
 "cells": [
  {
   "cell_type": "markdown",
   "metadata": {},
   "source": [
    "### §3.5 List 列表"
   ]
  },
  {
   "cell_type": "markdown",
   "metadata": {},
   "source": [
    "列表(List)，就是对任意的Python数据类型的任意数量的元素的集合。里面可以有数值、有函数、有其他列表，有字符串，等等。只要可以作为一个对象来看待，就可以被写到一个Python列表里。我们举个例子："
   ]
  },
  {
   "cell_type": "code",
   "execution_count": 1,
   "metadata": {},
   "outputs": [],
   "source": [
    "a = [\"Thanks!\", \"13\", 256, 3+7j, lambda x,y: x**(1/y), [1,2,3], {\"a\":\"char:a\"}]"
   ]
  },
  {
   "cell_type": "markdown",
   "metadata": {},
   "source": [
    "`a` 里面简直什么都有，但这也并没有出现任何问题，因为Python就是这样定义列表的，它是一堆东西的集合。为了确认这堆东西有多少，我们使用 `len()` 这个函数来计算列表的长度，也就是元素个数，这个函数我们在前面已经反复看到了。如果我只想取出其中的具体某个元素呢？那我们需要使用索引来提取："
   ]
  },
  {
   "cell_type": "code",
   "execution_count": 2,
   "metadata": {},
   "outputs": [
    {
     "data": {
      "text/plain": [
       "'Thanks!'"
      ]
     },
     "execution_count": 2,
     "metadata": {},
     "output_type": "execute_result"
    }
   ],
   "source": [
    "a[0]"
   ]
  },
  {
   "cell_type": "markdown",
   "metadata": {},
   "source": [
    "列表的索引，就是具体的整数数值，从0开始，到这个列表的长度前为止。也就是对于一个长度是3的列表来说，最大的索引值为2。这一点需要谨记，Python的索引是从0开始的，也就是对于一个有两个元素的Python列表来说，第一个元素的索引是0，第二个元素的索引是1。\n",
    "\n",
    "如果列表很长很长，我想取出最后一个元素，Python还提供了一个便捷的方法，逆序索引：最后一个元素的逆序索引是-1，倒数第二个元素就是-2。"
   ]
  },
  {
   "cell_type": "code",
   "execution_count": 3,
   "metadata": {},
   "outputs": [
    {
     "name": "stdout",
     "output_type": "stream",
     "text": [
      "{'a': 'char:a'}\n",
      "[1, 2, 3]\n"
     ]
    }
   ],
   "source": [
    "print(a[-1])\n",
    "print(a[-2])"
   ]
  },
  {
   "cell_type": "markdown",
   "metadata": {},
   "source": [
    "如果我想把每一个元素按顺序取出来呢？我们需要用到一个稍微复杂的语法——循环，来按顺序取出所有元素。我们先看一下这个写法，后续我们再详细深入的介绍循环语法。"
   ]
  },
  {
   "cell_type": "code",
   "execution_count": 4,
   "metadata": {},
   "outputs": [
    {
     "name": "stdout",
     "output_type": "stream",
     "text": [
      "Thanks!\t13\t256\t(3+7j)\t<function <lambda> at 0x000001169C207740>\t[1, 2, 3]\t{'a': 'char:a'}\t"
     ]
    }
   ],
   "source": [
    "for i in a :\n",
    "    print(i,end=\"\\t\")"
   ]
  },
  {
   "cell_type": "markdown",
   "metadata": {},
   "source": [
    "如果我要取列表中一小段的元素呢？比如索引2到索引4的元素，这时候我们可以用索引推断来提取一个子列表。"
   ]
  },
  {
   "cell_type": "code",
   "execution_count": 5,
   "metadata": {},
   "outputs": [
    {
     "data": {
      "text/plain": [
       "[256, (3+7j), <function __main__.<lambda>(x, y)>]"
      ]
     },
     "execution_count": 5,
     "metadata": {},
     "output_type": "execute_result"
    }
   ],
   "source": [
    "a[2:5]"
   ]
  },
  {
   "cell_type": "markdown",
   "metadata": {},
   "source": [
    "为什么这个推断是`2:5`，而不是`2:4`呢？因为这个推断可以写成这样的数学表达：子列表的元素来源于原列表索引范围`a:b`，满足 $\\{x | x>=a,x<b\\}$，即 `[a,b)` 。"
   ]
  },
  {
   "cell_type": "markdown",
   "metadata": {},
   "source": [
    "然后，就可以延展一个新的问题，既然Python的列表具有推断的表达，那么是否可以把表达式也嵌入到列表的推断中呢？这个答案显然是，可以的。这也是Python最重要的一个列表构成方案。"
   ]
  },
  {
   "cell_type": "code",
   "execution_count": 4,
   "metadata": {},
   "outputs": [
    {
     "data": {
      "text/plain": [
       "[2, 4, 6, 8, 10]"
      ]
     },
     "execution_count": 4,
     "metadata": {},
     "output_type": "execute_result"
    }
   ],
   "source": [
    "[x for x in range(1,11) if x%2==0] # 1至10这些整数中的偶数"
   ]
  },
  {
   "cell_type": "markdown",
   "metadata": {},
   "source": [
    "我们解析一下这段代码：\n",
    "\n",
    "`range(1,11)` 指定了一个从1开始到11之前的整数序列（`[1,2,3,4,5,6,7,8,9,10]`），通过 `for x in _` 的方式把这个序列中的每个元素都取了出来。同时，做了一个限定：`x%2==0` 即可以被2整除的那些元素。\n",
    "\n",
    "转换成数学的语言，就是 ： $\\{x|x \\in [1..10],且x可被2整除\\}$ 。"
   ]
  },
  {
   "cell_type": "markdown",
   "metadata": {},
   "source": [
    "那么对于一个列表（List）是否也有初等的运算呢？这很简单，我们试一下就知道了。"
   ]
  },
  {
   "cell_type": "code",
   "execution_count": 13,
   "metadata": {},
   "outputs": [
    {
     "name": "stdout",
     "output_type": "stream",
     "text": [
      "[1, 2, 3, 4, 5, 6, 0]\n",
      "[1, 2, 3, 4, 5, 6, 1, 2, 3, 4, 5, 6]\n"
     ]
    }
   ],
   "source": [
    "x = [1,2,3,4,5,6]\n",
    "\n",
    "print( x + [0] ) # 序列之间的加法，实现了序列拼接。\n",
    "print( x * 2 ) # 序列之间的乘法，实现了序列的重复。"
   ]
  },
  {
   "cell_type": "markdown",
   "metadata": {},
   "source": [
    "有加法、有乘法，那是不是也有减法和处罚呢？\n",
    "这确实没有的。因为对于一个序列来说，减法和除法到底代表了什么呢？\n",
    "\n",
    "序列减法，我们可能预期从原序列中去掉被减的序列；除法我们可能期待的把原序列拆分为等长的子列：，也就是有这样的结果预期：\n",
    "\n",
    "1. `print( x - [6] )` => `[1,2,3,4,5]`\n",
    "2. `print( x / 2 )` => `[[1,2,3], [4,5,6]]`\n",
    "3. `print( x / [2] )` => `[0.5, 1, 1.5, 2, 2.5, 3]`"
   ]
  },
  {
   "cell_type": "markdown",
   "metadata": {},
   "source": [
    "但对于这样的预期，并不存在一个基本的共识，所以Python并没有实现任何非共识的计算方案。与之对应的，列表的基本操作，有与之对应的方法："
   ]
  },
  {
   "cell_type": "code",
   "execution_count": 14,
   "metadata": {},
   "outputs": [
    {
     "name": "stdout",
     "output_type": "stream",
     "text": [
      "[1, 2, 3, 4, 5, 6, 10]\n",
      "[1, 2, 3, 4, 5, 6, 10, 11, 12]\n",
      "[13, 1, 2, 3, 4, 5, 6, 10, 11, 12]\n",
      "[13, 1, 3, 4, 5, 6, 10, 11, 12]\n",
      "[1, 3, 4, 5, 6, 10, 11, 12]\n",
      "[12, 11, 10, 6, 5, 4, 3, 1]\n"
     ]
    },
    {
     "data": {
      "text/plain": [
       "[1, 3, 4, 5, 6, 10, 11, 12]"
      ]
     },
     "execution_count": 14,
     "metadata": {},
     "output_type": "execute_result"
    }
   ],
   "source": [
    "x = [1,2,3,4,5,6]\n",
    "\n",
    "x.append(10) # 给x接续一个元素。\n",
    "print(x)\n",
    "\n",
    "x.extend([11,12]) # 给x接续一组元素\n",
    "print(x)\n",
    "\n",
    "x.insert(0, 13) # 在指定的位置插入一个元素\n",
    "print(x)\n",
    "\n",
    "x.pop(2) # 删除指定位置的元素\n",
    "print(x)\n",
    "\n",
    "x.remove(13) # 删除指定的元素\n",
    "print(x)\n",
    "\n",
    "x.reverse() # 翻转列表\n",
    "print(x)\n",
    "\n",
    "sorted(x) # 排序"
   ]
  },
  {
   "cell_type": "markdown",
   "metadata": {},
   "source": [
    "如果我确实需要对每个元素都进行计算呢？这个时候，可以使用列表推断的方法。或者把这个列表转换为基本的向量（Vector/Array）来处理。那我们再来看看怎么这两种方法的差异。"
   ]
  },
  {
   "cell_type": "markdown",
   "metadata": {},
   "source": [
    "使用列表推断，我们依次做如下内容："
   ]
  },
  {
   "cell_type": "code",
   "execution_count": 15,
   "metadata": {},
   "outputs": [
    {
     "data": {
      "text/plain": [
       "[1, 4, 9, 16, 25, 36]"
      ]
     },
     "execution_count": 15,
     "metadata": {},
     "output_type": "execute_result"
    }
   ],
   "source": [
    "# 1 每个元素的平方\n",
    "x = [1,2,3,4,5,6]\n",
    "[pow(i, 2) for i in x]"
   ]
  },
  {
   "cell_type": "code",
   "execution_count": 16,
   "metadata": {},
   "outputs": [
    {
     "data": {
      "text/plain": [
       "[2, 3, 4, 5, 6, 7]"
      ]
     },
     "execution_count": 16,
     "metadata": {},
     "output_type": "execute_result"
    }
   ],
   "source": [
    "# 2 每个元素加1\n",
    "x = [1,2,3,4,5,6]\n",
    "[i+1 for i in x]"
   ]
  },
  {
   "cell_type": "code",
   "execution_count": 17,
   "metadata": {},
   "outputs": [
    {
     "data": {
      "text/plain": [
       "91"
      ]
     },
     "execution_count": 17,
     "metadata": {},
     "output_type": "execute_result"
    }
   ],
   "source": [
    "# 3 计算向量积\n",
    "x = [1,2,3,4,5,6]\n",
    "sum([pow(i,2) for i in x])"
   ]
  },
  {
   "cell_type": "markdown",
   "metadata": {},
   "source": [
    "再使用向量方式计算一遍上面的内容："
   ]
  },
  {
   "cell_type": "code",
   "execution_count": 18,
   "metadata": {},
   "outputs": [
    {
     "data": {
      "text/plain": [
       "[1, 4, 9, 16, 25, 36]"
      ]
     },
     "execution_count": 18,
     "metadata": {},
     "output_type": "execute_result"
    }
   ],
   "source": [
    "# 1 每个元素的平方\n",
    "import numpy as np\n",
    "x = [1,2,3,4,5,6]\n",
    "x = np.array(x)\n",
    "list(x**2)"
   ]
  },
  {
   "cell_type": "code",
   "execution_count": 19,
   "metadata": {},
   "outputs": [
    {
     "data": {
      "text/plain": [
       "[2, 3, 4, 5, 6, 7]"
      ]
     },
     "execution_count": 19,
     "metadata": {},
     "output_type": "execute_result"
    }
   ],
   "source": [
    "# 2 每个元素加1\n",
    "x = [1,2,3,4,5,6]\n",
    "x = np.array(x)\n",
    "list(x + 1)"
   ]
  },
  {
   "cell_type": "code",
   "execution_count": 24,
   "metadata": {},
   "outputs": [
    {
     "data": {
      "text/plain": [
       "91"
      ]
     },
     "execution_count": 24,
     "metadata": {},
     "output_type": "execute_result"
    }
   ],
   "source": [
    "# 3 计算向量积\n",
    "x = [1,2,3,4,5,6]\n",
    "x = np.array(x)\n",
    "sum(x * x)"
   ]
  },
  {
   "cell_type": "markdown",
   "metadata": {},
   "source": [
    "这里我们先简单介绍一下 `numpy` 这个包。因为我们做向量计算，就是依赖这个包所提供的基础能力。\n",
    "\n",
    "在这个例子里，我们只是用了把列表转换为向量的功能：`np.array()` 。这个函数可以把我们所见的列表转换为向量。剩下的就是向量语境下的计算了，包括加减乘除，还有幂运算。"
   ]
  },
  {
   "cell_type": "markdown",
   "metadata": {},
   "source": [
    "那这两种方式，那个更好呢？这就要却决于使用的场景了。如果是在一个数学环境中，或者在向量语义下，那么使用响亮的方式更简洁易懂。如果只是孤立的环境，使用列表推断也很便捷，处理上也更自然。"
   ]
  },
  {
   "cell_type": "markdown",
   "metadata": {},
   "source": [
    "总的来说，Python的列表（List），是对数学上的集合的泛化抽象，它可以作为一个可数集来看待。也可以作为一个序列来看待。在其上的运算，也基本符合序列这个概念实体，却不符合集合的概念。Python也有集合概念的方法，就是 `set()` 方法。它通常只作为去除重复项的一个选择，而非完整实用的概念应用。"
   ]
  },
  {
   "cell_type": "markdown",
   "metadata": {},
   "source": [
    "### §3.6 练习与习题"
   ]
  },
  {
   "cell_type": "markdown",
   "metadata": {},
   "source": [
    "请把下面这个函数，补充完整，并使代码运行成功。并简述这个函数是怎么实现目标的。"
   ]
  },
  {
   "cell_type": "code",
   "execution_count": 26,
   "metadata": {},
   "outputs": [
    {
     "data": {
      "text/plain": [
       "[]"
      ]
     },
     "execution_count": 26,
     "metadata": {},
     "output_type": "execute_result"
    }
   ],
   "source": [
    "def List_Spilt(aList:list, n:int) -> list :\n",
    "    \"\"\"\n",
    "    列表分割函数\n",
    "    :param @ aList : 待分割的列表\n",
    "    :param @ n : 分割的份数\n",
    "    \"\"\"\n",
    "    xLen = len(aList)\n",
    "    sub_Length = xLen // n\n",
    "    result = []\n",
    "    for i in range(0, n):\n",
    "        # 请在这里补充代码，补充完成后删掉 `pass`\n",
    "        pass\n",
    "    return result\n",
    "\n",
    "List_Spilt([1,2,3,4,5,6,7,8,9,10], 3)"
   ]
  },
  {
   "cell_type": "markdown",
   "metadata": {},
   "source": [
    "如果列表长度不能整除时，有需要分割的列表长度之和等于原始列表长度，则可以如何进一步修改上面的`List_Spilt`函数以实现这个目标？\n",
    "请把你的函数写在下面，并使用列表 `[1,2,3,4,5,6,7,8,9,10,11]` 和 5 作为输入进行测试。"
   ]
  },
  {
   "cell_type": "code",
   "execution_count": 25,
   "metadata": {},
   "outputs": [],
   "source": [
    "# Your Function"
   ]
  },
  {
   "cell_type": "markdown",
   "metadata": {},
   "source": [
    "### §3.7 字典"
   ]
  },
  {
   "cell_type": "markdown",
   "metadata": {},
   "source": []
  }
 ],
 "metadata": {
  "kernelspec": {
   "display_name": "Python 3",
   "language": "python",
   "name": "python3"
  },
  "language_info": {
   "codemirror_mode": {
    "name": "ipython",
    "version": 3
   },
   "file_extension": ".py",
   "mimetype": "text/x-python",
   "name": "python",
   "nbconvert_exporter": "python",
   "pygments_lexer": "ipython3",
   "version": "3.11.7"
  }
 },
 "nbformat": 4,
 "nbformat_minor": 2
}
