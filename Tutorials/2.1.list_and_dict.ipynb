{
 "cells": [
  {
   "cell_type": "markdown",
   "metadata": {},
   "source": [
    "### §3.4 List 列表"
   ]
  },
  {
   "cell_type": "markdown",
   "metadata": {},
   "source": [
    "列表(List)，就是对任意的Python数据类型的任意数量的元素的集合。里面可以有数值、有函数、有其他列表，有字符串，等等。只要可以作为一个对象来看待，就可以被写到一个Python列表里。我们举个例子："
   ]
  },
  {
   "cell_type": "code",
   "execution_count": 1,
   "metadata": {},
   "outputs": [],
   "source": [
    "a = [\"Thanks!\", \"13\", 256, 3+7j, lambda x,y: x**(1/y), [1,2,3], {\"a\":\"char:a\"}]"
   ]
  },
  {
   "cell_type": "markdown",
   "metadata": {},
   "source": []
  },
  {
   "cell_type": "markdown",
   "metadata": {},
   "source": [
    "`a` 里面简直什么都有，但这也并没有出现任何问题，因为Python就是这样定义列表的，它是一堆东西的集合。为了确认这堆东西有多少，我们使用 `len()` 这个函数来计算列表的长度，也就是元素个数，这个函数我们在前面已经反复看到了。如果我只想取出其中的具体某个元素呢？那我们需要使用索引来提取："
   ]
  },
  {
   "cell_type": "code",
   "execution_count": 2,
   "metadata": {},
   "outputs": [
    {
     "data": {
      "text/plain": [
       "'Thanks!'"
      ]
     },
     "execution_count": 2,
     "metadata": {},
     "output_type": "execute_result"
    }
   ],
   "source": [
    "a[0]"
   ]
  },
  {
   "cell_type": "markdown",
   "metadata": {},
   "source": [
    "列表的索引，就是具体的整数数值，从0开始，到这个列表的长度前为止。也就是对于一个长度是3的列表来说，最大的索引值为2。这一点需要谨记，Python的索引是从0开始的，也就是对于一个有两个元素的Python列表来说，第一个元素的索引是0，第二个元素的索引是1。\n",
    "\n",
    "如果列表很长很长，我想取出最后一个元素，Python还提供了一个便捷的方法，逆序索引：最后一个元素的逆序索引是-1，倒数第二个元素就是-2。"
   ]
  },
  {
   "cell_type": "code",
   "execution_count": 3,
   "metadata": {},
   "outputs": [
    {
     "name": "stdout",
     "output_type": "stream",
     "text": [
      "{'a': 'char:a'}\n",
      "[1, 2, 3]\n"
     ]
    }
   ],
   "source": [
    "print(a[-1])\n",
    "print(a[-2])"
   ]
  },
  {
   "cell_type": "markdown",
   "metadata": {},
   "source": [
    "如果我想把每一个元素按顺序取出来呢？我们需要用到一个稍微复杂的语法——循环，来按顺序取出所有元素。我们先看一下这个写法，后续我们再详细深入的介绍循环语法。"
   ]
  },
  {
   "cell_type": "code",
   "execution_count": 4,
   "metadata": {},
   "outputs": [
    {
     "name": "stdout",
     "output_type": "stream",
     "text": [
      "Thanks!\t13\t256\t(3+7j)\t<function <lambda> at 0x000001169C207740>\t[1, 2, 3]\t{'a': 'char:a'}\t"
     ]
    }
   ],
   "source": [
    "for i in a :\n",
    "    print(i,end=\"\\t\")"
   ]
  },
  {
   "cell_type": "markdown",
   "metadata": {},
   "source": [
    "如果我要取列表中一小段的元素呢？比如索引2到索引4的元素，这时候我们可以用索引推断来提取一个子列表。"
   ]
  },
  {
   "cell_type": "code",
   "execution_count": 5,
   "metadata": {},
   "outputs": [
    {
     "data": {
      "text/plain": [
       "[256, (3+7j), <function __main__.<lambda>(x, y)>]"
      ]
     },
     "execution_count": 5,
     "metadata": {},
     "output_type": "execute_result"
    }
   ],
   "source": [
    "a[2:5]"
   ]
  },
  {
   "cell_type": "markdown",
   "metadata": {},
   "source": [
    "为什么这个推断是`2:5`，而不是`2:4`呢？因为这个推断可以写成这样的数学表达：子列表的元素来源于原列表索引范围`a:b`，满足 $\\{x | x>=a,x<b\\}$，即 `[a,b)` 。"
   ]
  }
 ],
 "metadata": {
  "kernelspec": {
   "display_name": "Python 3",
   "language": "python",
   "name": "python3"
  },
  "language_info": {
   "codemirror_mode": {
    "name": "ipython",
    "version": 3
   },
   "file_extension": ".py",
   "mimetype": "text/x-python",
   "name": "python",
   "nbconvert_exporter": "python",
   "pygments_lexer": "ipython3",
   "version": "3.11.7"
  }
 },
 "nbformat": 4,
 "nbformat_minor": 2
}
