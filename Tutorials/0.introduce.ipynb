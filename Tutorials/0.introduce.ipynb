{
 "cells": [
  {
   "cell_type": "markdown",
   "metadata": {},
   "source": [
    "# 第一章 介绍"
   ]
  },
  {
   "cell_type": "markdown",
   "metadata": {},
   "source": [
    "Python是一种高级编程语言，但不要被这句话吓到。\n",
    "因为Python十分简单易学、易读易写。\n",
    "\n",
    "为什么会这样呢？我们可以先简单的概括一下，其中涉及到的一些Python的特点。"
   ]
  },
  {
   "cell_type": "markdown",
   "metadata": {},
   "source": [
    "### 为何简单"
   ]
  },
  {
   "cell_type": "markdown",
   "metadata": {},
   "source": [
    "##### （1）简单易用\n",
    "\n",
    "\"**Life is short, you need Python.**\"\n",
    "\n",
    "这句话是Python的名言。[Bruce Eckel](https://sebsauvage.net/python/) 奉献的这句话可以说很好的展示了Python最重要的一个特性，\n",
    "就是简单易用，你不需要特别的计算机学位，或者数学学位，只要不太懒惰，就一定可以很快掌握这个工具。\n",
    "\n",
    "当然这种简单，一方面来源于Python的语法设计，及其简洁又贴近自然语言。\n",
    "另一方面，也是由语法底层的动态类型设计所带来的。\n",
    "\n",
    "不用担心这些专有名词，比如动态类型。你可以先把它当作是一个对于编程语言的描述。在后面我们会比较详细的了解到什么是动态类型。现在你只需要记住，这个特性带来了一定的使用便利性，让我们可以更简单、快捷的实现一个小程序。"
   ]
  },
  {
   "cell_type": "markdown",
   "metadata": {},
   "source": [
    "##### （2）开源和免费\n",
    "\n",
    "不要小看这一点。需要付费使用的工具，总是小众又小众，闭源的工具也在逐渐丧失用户，尤其是编程语言更是有这样的特征。借着Python的开源和免费使用、分发，让Python拥有了一个庞大的用户社区，并且有不断的新功能和库被庞大的用户群体贡献出来。大量的文档、教程和论坛支持，这对于解决问题和学习Python，不仅非常有帮助，也对易用性有很大的提升。"
   ]
  },
  {
   "cell_type": "markdown",
   "metadata": {},
   "source": [
    "##### （3）广泛的应用\n",
    "\n",
    "Python在被创造之初，只是希望可以填补Shell脚本语言和高级编程语言之间的空缺，想创造一个可以做更多操作的高级脚本语言。但在不断的迭代过程中，Python逐渐在越来越多的领域中，有了广泛的应用，无论是Web开发、数据科学、机器学习、网络爬虫、自动化测试、桌面应用开发等。都能看到Python的身影。\n",
    "\n",
    "这也导致这个编程语言，并不只是一个偏向开发的程序语言，也可以成为很不错的生产力工具。就像微软也在积极的把Python整合到Excel中，来扩展这个古老的表格程序的应用前景。\n",
    "\n",
    "广泛的应用领域，也反向加强了Python的易用性，因为会有各个不同领域的前辈为新人提供引导、提供教程和帮助。"
   ]
  },
  {
   "cell_type": "markdown",
   "metadata": {},
   "source": [
    "### Python语言特点"
   ]
  },
  {
   "cell_type": "markdown",
   "metadata": {},
   "source": []
  },
  {
   "cell_type": "markdown",
   "metadata": {},
   "source": [
    "### 参考"
   ]
  },
  {
   "cell_type": "markdown",
   "metadata": {},
   "source": [
    "##### Python的发展史\n",
    "\n",
    "前面，我们提到了一点儿Python早期发展的历史，这里我们扩展一些。\n",
    "\n",
    "Python发展中的几个关键阶段：\n",
    "\n",
    "1. **1989-1991 年：诞生和初期发展**\n",
    "   - Python 最初由荷兰程序员 Guido van Rossum 在 1989 年开始开发，并于 1991 年首次发布。Guido van Rossum 设计 Python 的初衷是创建一种易于学习和使用的编程语言，具有简洁、清晰的语法。\n",
    "\n",
    "2. **1991-2000 年：Python 1.x 和 2.x 时代**\n",
    "   - 在 1991 年发布的 Python 0.9.0 版本中，Python 的基本特性已经基本确立。随后的 Python 1.x 时代，Python 语言逐渐成熟，并且在不断地迭代中改进和完善。\n",
    "   - 在 2000 年发布的 Python 2.0 版本中，引入了一些重要的新特性，如列表推导式、垃圾回收机制等。\n",
    "\n",
    "3. **2000-2008 年：Python 2.x 的稳定期**\n",
    "   - Python 2.x 版本成为了 Python 主流版本，并且在这个阶段持续进行了改进和优化，Python 的用户社区逐渐壮大。\n",
    "\n",
    "4. **2008-2019 年：Python 3.x 的崛起和主流化**\n",
    "   - 2008 年发布的 Python 3.0 版本引入了一些不兼容的语言变化，以解决 Python 2.x 中的一些设计缺陷和不一致性。然而，这也导致了一段时间的版本分裂和用户迁移的困难。\n",
    "   - 随着时间的推移和社区的努力，Python 3.x 逐渐成为了主流版本，并且在功能和性能上得到了显著的改进和优化。\n",
    "\n",
    "5. **2019 年至今：Python 3 的继续发展**\n",
    "   - Python 3 继续保持着活跃的开发和更新，不断推出新的版本以提供更好的功能和性能。Python 社区也在不断地完善生态系统，并且 Python 在各个领域的应用也越来越广泛。\n",
    "\n",
    "如果你想了解更加详细和全面的 Python 发展史，推荐阅读《The History of Python》这本书籍，由 Guido van Rossum 和其他 Python 开发者共同编写，详细介绍了 Python 的发展历程、设计理念和技术特点。\n",
    "\n",
    "你也可以再看看以下参考：\n",
    "- [Python发展史](https://segmentfault.com/a/1190000012312359)\n",
    "- [Python发展简史](https://zhuanlan.zhihu.com/p/659988096)"
   ]
  }
 ],
 "metadata": {
  "language_info": {
   "name": "python"
  }
 },
 "nbformat": 4,
 "nbformat_minor": 2
}
