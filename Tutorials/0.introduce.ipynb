{
 "cells": [
  {
   "cell_type": "markdown",
   "metadata": {},
   "source": [
    "# 第一章 介绍"
   ]
  },
  {
   "cell_type": "markdown",
   "metadata": {},
   "source": [
    "Python是一种高级编程语言，但不要被这句话吓到。\n",
    "因为Python十分简单易学、易读易写。\n",
    "\n",
    "为什么会这样呢？我们可以先简单的概括一下，其中涉及到的一些Python的特点。"
   ]
  },
  {
   "cell_type": "markdown",
   "metadata": {},
   "source": [
    "### §1.1 为何简单"
   ]
  },
  {
   "cell_type": "markdown",
   "metadata": {},
   "source": [
    "##### （1）简单易用\n",
    "\n",
    "\"**Life is short, you need Python.**\"\n",
    "\n",
    "这句话是Python的名言。[Bruce Eckel](https://sebsauvage.net/python/) 奉献的这句话可以说很好的展示了Python最重要的一个特性，\n",
    "就是简单易用，你不需要特别的计算机学位，或者数学学位，只要不太懒惰，就一定可以很快掌握这个工具。\n",
    "\n",
    "当然这种简单，一方面来源于Python的语法设计，及其简洁又贴近自然语言。\n",
    "另一方面，也是由语法底层的动态类型设计所带来的。\n",
    "\n",
    "不用担心这些专有名词，比如动态类型。你可以先把它当作是一个对于编程语言的描述。在后面我们会比较详细的了解到什么是动态类型。现在你只需要记住，这个特性带来了一定的使用便利性，让我们可以更简单、快捷的实现一个小程序。"
   ]
  },
  {
   "cell_type": "markdown",
   "metadata": {},
   "source": [
    "##### （2）开源和免费\n",
    "\n",
    "不要小看这一点。需要付费使用的工具，总是小众又小众，闭源的工具也在逐渐丧失用户，尤其是编程语言更是有这样的特征。借着Python的开源和免费使用、分发，让Python拥有了一个庞大的用户社区，并且有不断的新功能和库被庞大的用户群体贡献出来。大量的文档、教程和论坛支持，这对于解决问题和学习Python，不仅非常有帮助，也对易用性有很大的提升。"
   ]
  },
  {
   "cell_type": "markdown",
   "metadata": {},
   "source": [
    "##### （3）广泛的应用\n",
    "\n",
    "Python在被创造之初，只是希望可以填补Shell脚本语言和高级编程语言之间的空缺，想创造一个可以做更多操作的高级脚本语言。但在不断的迭代过程中，Python逐渐在越来越多的领域中，有了广泛的应用，无论是Web开发、数据科学、机器学习、网络爬虫、自动化测试、桌面应用开发等。都能看到Python的身影。\n",
    "\n",
    "这也导致这个编程语言，并不只是一个偏向开发的程序语言，也可以成为很不错的生产力工具。就像微软也在积极的把Python整合到Excel中，来扩展这个古老的表格程序的应用前景。\n",
    "\n",
    "广泛的应用领域，也反向加强了Python的易用性，因为会有各个不同领域的前辈为新人提供引导、提供教程和帮助。"
   ]
  },
  {
   "cell_type": "markdown",
   "metadata": {},
   "source": [
    "### §1.2 Python语言特点"
   ]
  },
  {
   "cell_type": "markdown",
   "metadata": {},
   "source": [
    "**（1）优异的动态表现**\n",
    "\n",
    "可扩展编程的核心是定义函数。而Python允许使用必选参数、可选参数、关键字参数，甚至任意数量的参数列表，来对一个函数进行定义。\n",
    "这对于一个函数来说，可以付与其极强的表现性。加上Python已有的动态类型和符合类型，可以带来使用上完全想象不到的便利性。\n",
    "\n",
    "我们会在后续的教程中逐步感受到这个便利性，以及Python的动态表现力。\n",
    "\n",
    "当然，我们也可以先用一个官方的例子，来对这一点做个小结："
   ]
  },
  {
   "cell_type": "code",
   "execution_count": 1,
   "metadata": {},
   "outputs": [
    {
     "name": "stdout",
     "output_type": "stream",
     "text": [
      "1 1 2 3 5 8 13 21 34 55 89 144 233 377 610 987 \n"
     ]
    },
    {
     "data": {
      "text/plain": [
       "987"
      ]
     },
     "execution_count": 1,
     "metadata": {},
     "output_type": "execute_result"
    }
   ],
   "source": [
    "def fib(n):\n",
    "    a, b = 0, 1\n",
    "    while b < n:\n",
    "        print(b, end=' ')\n",
    "        a, b = b, a+b\n",
    "    print()\n",
    "    return a\n",
    "\n",
    "fib(1000.78)"
   ]
  },
  {
   "cell_type": "markdown",
   "metadata": {},
   "source": [
    "`fib()` 这个函数实际有效的代码只有3行，除了 `n` 这个变量外，只有 `a` 、`b` 这两个内部变量来完成计算，反复使用 `a` 、`b` 来达到目标。"
   ]
  },
  {
   "cell_type": "markdown",
   "metadata": {},
   "source": [
    "**（2）自动内存管理**\n",
    "\n",
    "对于很多高阶编程语言来说，内存管理是一个很重要的事情。虽然现在内存容量越来越大，但细致优化内存的使用一直是编程的重要工作之一，尤其对于C语言来说。但是，Python在这一点上有一个突出的特点，就是自动化管理内容，Python会根据实际代码自动的对内存进行回收和动态使用。\n",
    "\n",
    "这不单单带来了学习上的便利，也带来了使用上的简洁。"
   ]
  },
  {
   "cell_type": "markdown",
   "metadata": {},
   "source": [
    "**（3）解释性语言**\n",
    "\n",
    "Python是解释性语言。通过Python，你可以一点点构建你所需要处理的内容，而无需一下把全部代码都准备好。这也是Python提供了一个高效的交换环境的一个显性结果。\n",
    "\n",
    "如果你用过R语言，那对于这种解释性语言的特点一定不陌生。虽然这也带来了一些问题，比如效率问题，但交互式编程的便捷性，对于一个工作工具来说会更具吸引力——无需准备，直接开始。"
   ]
  },
  {
   "cell_type": "markdown",
   "metadata": {},
   "source": [
    "### §1.3 一些参考"
   ]
  },
  {
   "cell_type": "markdown",
   "metadata": {},
   "source": [
    "##### Python之禅\n",
    "\n",
    "Python的发展就是围绕不同人之间的对于什么是简单可靠的编程语言在展开。“简单易学”可是说是Python的最大的特征和标签。\n",
    "\n",
    "2001年秋天的一次讨论，诞生了这个 Zen of Python 的表述，直到多年以后，就像玩笑一样，Python的开发者把这段“禅”加入到每一版本的Python中。就像对过去的回忆和感慨，时至已逝，禅心永定。:smiley:\n",
    "\n",
    "**🐍之禅**\n",
    "\n",
    "``` shell\n",
    "美胜于丑。\n",
    "明了胜于含蓄。\n",
    "简单胜于复杂。\n",
    "复杂胜于凌乱。\n",
    "扁平胜于嵌套。\n",
    "稀疏胜于密集。\n",
    "可读性至关重要。\n",
    "特殊并不足以打破规则。\n",
    "尽管实用性优于纯洁性。\n",
    "错误不应悄然传递。\n",
    "除非明确地将其消除。\n",
    "面对模棱两可，拒绝猜测的诱惑。\n",
    "应该有一种——最好只有一种——明显的方式来做它。\n",
    "尽管这种方式可能一开始不明显，除非你是荷兰人。\n",
    "现在做总比永远不做好。\n",
    "尽管永远不做通常比立即做好。\n",
    "如果实现难以解释，那是个坏主意。\n",
    "如果实现容易解释，那可能是个好主意。\n",
    "命名空间是个了不起的主意——我们应该做更多这样的事情！\n",
    "```"
   ]
  },
  {
   "cell_type": "code",
   "execution_count": 2,
   "metadata": {},
   "outputs": [
    {
     "name": "stdout",
     "output_type": "stream",
     "text": [
      "The Zen of Python, by Tim Peters\n",
      "\n",
      "Beautiful is better than ugly.\n",
      "Explicit is better than implicit.\n",
      "Simple is better than complex.\n",
      "Complex is better than complicated.\n",
      "Flat is better than nested.\n",
      "Sparse is better than dense.\n",
      "Readability counts.\n",
      "Special cases aren't special enough to break the rules.\n",
      "Although practicality beats purity.\n",
      "Errors should never pass silently.\n",
      "Unless explicitly silenced.\n",
      "In the face of ambiguity, refuse the temptation to guess.\n",
      "There should be one-- and preferably only one --obvious way to do it.\n",
      "Although that way may not be obvious at first unless you're Dutch.\n",
      "Now is better than never.\n",
      "Although never is often better than *right* now.\n",
      "If the implementation is hard to explain, it's a bad idea.\n",
      "If the implementation is easy to explain, it may be a good idea.\n",
      "Namespaces are one honking great idea -- let's do more of those!\n"
     ]
    }
   ],
   "source": [
    "import this"
   ]
  },
  {
   "cell_type": "markdown",
   "metadata": {},
   "source": [
    "##### Python的发展史\n",
    "\n",
    "前面，我们提到了一点儿Python早期发展的历史，这里我们把整个Python的历史做一个相对完整的概括。\n",
    "\n",
    "Python发展中的几个关键阶段：\n",
    "\n",
    "1. **1989-1991 年：诞生和初期发展**\n",
    "   - Python 最初由荷兰程序员 Guido van Rossum 在 1989 年开始开发，并于 1991 年首次发布。Guido van Rossum 设计 Python 的初衷是创建一种易于学习和使用的编程语言，具有简洁、清晰的语法。\n",
    "\n",
    "2. **1991-2000 年：Python 1.x 和 2.x 时代**\n",
    "   - 在 1991 年发布的 Python 0.9.0 版本中，Python 的基本特性已经基本确立。随后的 Python 1.x 时代，Python 语言逐渐成熟，并且在不断地迭代中改进和完善。\n",
    "   - 在 2000 年发布的 Python 2.0 版本中，引入了一些重要的新特性，如列表推导式、垃圾回收机制等。\n",
    "\n",
    "3. **2000-2008 年：Python 2.x 的稳定期**\n",
    "   - Python 2.x 版本成为了 Python 主流版本，并且在这个阶段持续进行了改进和优化，Python 的用户社区逐渐壮大。\n",
    "\n",
    "4. **2008-2019 年：Python 3.x 的崛起和主流化**\n",
    "   - 2008 年年底发布的 Python 3.0 版本引入了一些不兼容的语言变化，以解决 Python 2.x 中的一些设计缺陷和不一致性。然而，这也导致了一段时间的版本分裂和用户迁移的困难。\n",
    "   - 随着时间的推移和社区的努力，Python 3.x 逐渐成为了主流版本，并且在功能和性能上得到了显著的改进和优化。\n",
    "\n",
    "5. **2019 年至今：Python 3 的继续发展**\n",
    "   - Python 3 继续保持着活跃的开发和更新，不断推出新的版本以提供更好的功能和性能。Python 社区也在不断地完善生态系统，并且 Python 在各个领域的应用也越来越广泛。\n",
    "\n",
    "如果你想了解更加详细和全面的 Python 发展史，你可以从下面这些列表中寻找到所需要的内容：\n",
    "- Guido van Rossum 主笔的Blog [The History of Python](http://python-history.blogspot.com/)\n",
    "- 看英文费劲的这里有一个The History of Python系列中文翻译可以参考 [Python发展史](https://www.zhihu.com/collection/945267205)\n",
    "- Python开发组留存的整个Python版本演变史 [HISTORY](https://raw.githubusercontent.com/python/cpython/master/Misc/HISTORY)\n",
    "- 一个简单的中文 [Python发展史](https://segmentfault.com/a/1190000012312359)\n",
    "- 中文简洁的版本发展史（配图直观好看） [Python发展简史](https://zhuanlan.zhihu.com/p/659988096)"
   ]
  }
 ],
 "metadata": {
  "kernelspec": {
   "display_name": "Python 3",
   "language": "python",
   "name": "python3"
  },
  "language_info": {
   "codemirror_mode": {
    "name": "ipython",
    "version": 3
   },
   "file_extension": ".py",
   "mimetype": "text/x-python",
   "name": "python",
   "nbconvert_exporter": "python",
   "pygments_lexer": "ipython3",
   "version": "3.11.7"
  }
 },
 "nbformat": 4,
 "nbformat_minor": 2
}
