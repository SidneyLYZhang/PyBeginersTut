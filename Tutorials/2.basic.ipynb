{
 "cells": [
  {
   "cell_type": "markdown",
   "metadata": {},
   "source": [
    "# 第三章 基础语法和数据类型"
   ]
  },
  {
   "cell_type": "markdown",
   "metadata": {},
   "source": [
    "从这里开始，我们就要正式开始Python学习了。但也不要过多担心，我们会从最简单的内容开始。"
   ]
  },
  {
   "cell_type": "markdown",
   "metadata": {},
   "source": [
    "### §3.1 基本语法的基础"
   ]
  },
  {
   "cell_type": "markdown",
   "metadata": {},
   "source": [
    "让我么先来搞清几个基本名词、概念，这是我们在编程，至少是在Python学习中，会经常遇到的基本概念/内容。"
   ]
  },
  {
   "cell_type": "markdown",
   "metadata": {},
   "source": [
    "1. 变量：用于代表并存储一个数据的标识符。这个可以类比数学公式中的`x`、`y`、`f`这类变量来理解。\n",
    "2. 数据类型：就是指某一个变量，它所代表的数据是什么类型的，比如说，数字类型或者文本类型（请注意这两个类型不是准确的说法）。\n",
    "3. 输入输出：\n",
    "4. 错误处理\n",
    "5. 库/添加包"
   ]
  },
  {
   "cell_type": "code",
   "execution_count": 2,
   "metadata": {},
   "outputs": [],
   "source": [
    "a = 10 # a 就是一个变量，这里我们定义了一个变量 a 并给 a 赋予了一个数值10。"
   ]
  },
  {
   "cell_type": "markdown",
   "metadata": {},
   "source": [
    "### §3.xxx 练习与习题"
   ]
  },
  {
   "cell_type": "markdown",
   "metadata": {},
   "source": [
    "请学习本章节的内容后，来做以下习题。"
   ]
  },
  {
   "cell_type": "markdown",
   "metadata": {},
   "source": [
    "**习题一：**\n",
    "\n",
    "基于我们在本章所学到的知识，以及所提供的随机填充单词函数（），来创造一个新的随机填充文本的函数，实现这样一个功能：\n",
    "\n",
    "- 可以输入需要的文本段数；\n",
    "- 定义随机文本的长度。"
   ]
  }
 ],
 "metadata": {
  "kernelspec": {
   "display_name": "Python 3",
   "language": "python",
   "name": "python3"
  },
  "language_info": {
   "codemirror_mode": {
    "name": "ipython",
    "version": 3
   },
   "file_extension": ".py",
   "mimetype": "text/x-python",
   "name": "python",
   "nbconvert_exporter": "python",
   "pygments_lexer": "ipython3",
   "version": "3.11.7"
  }
 },
 "nbformat": 4,
 "nbformat_minor": 2
}
