{
 "cells": [
  {
   "cell_type": "markdown",
   "metadata": {},
   "source": [
    "# 第三章 基础语法和数据类型"
   ]
  },
  {
   "cell_type": "markdown",
   "metadata": {},
   "source": [
    "从这里开始，我们就要正式开始Python学习了。但也不要过多担心，我们会从最简单的内容开始。"
   ]
  },
  {
   "cell_type": "markdown",
   "metadata": {},
   "source": [
    "### §3.1 基本语法的基础"
   ]
  },
  {
   "cell_type": "markdown",
   "metadata": {},
   "source": [
    "让我么先来搞清几个基本名词、概念，这是我们在编程，至少是在Python学习中，会经常遇到的基本概念/内容。"
   ]
  },
  {
   "cell_type": "markdown",
   "metadata": {},
   "source": [
    "1. 变量：用于代表并存储一个数据的标识符。这个可以类比数学公式中的`x`、`y`、`f`这类变量来理解。\n",
    "2. 数据类型：就是指某一个变量，它所代表的数据是什么类型的，比如说，数字类型或者文本类型（请注意这两个类型不是准确的说法）。\n",
    "3. 输入输出：和计算机的互动方式，鼠标、键盘都是常用的输入设备，输出设备就是显示器。对于程序而言，输入输出就是字符和输出的文字/图像。\n",
    "4. 函数：一段代码组成的程序片段，可以用来实现某一些特定的目标。理解成数学函数也完全没什么问题。\n",
    "5. 错误处理：代码难免出差错，提前考虑会出现的错误，并针对性的处理就是错误处理。\n",
    "6. 库/添加包：也就是Package/包，通过包可以扩展程序的使用便利性，很多功能也可以基于此快速完成一些复杂的能力，你可以把它想象成好用的工具箱就可以。"
   ]
  },
  {
   "cell_type": "code",
   "execution_count": 1,
   "metadata": {},
   "outputs": [],
   "source": [
    "# 先设定一下基本环境\n",
    "import os \n",
    "import sys # import是标准的引入包的方法，这里 os 和 sys 都是官方自带的包。\n",
    "module_path = os.path.abspath(os.path.join('..'))\n",
    "if module_path not in sys.path :\n",
    "    sys.path.append(module_path)"
   ]
  },
  {
   "cell_type": "markdown",
   "metadata": {},
   "source": [
    "上面这段代码把当前的运行环做了一些设定，让我们可以更好的把我们在这个教程中所需要的一些模块/函数更顺利的添加进来。"
   ]
  },
  {
   "cell_type": "code",
   "execution_count": 2,
   "metadata": {},
   "outputs": [
    {
     "data": {
      "text/plain": [
       "['mtflcarmpd',\n",
       " 'secretaries',\n",
       " 't',\n",
       " 0.9199127215585806,\n",
       " 'notlyf',\n",
       " 2.8984578649826966,\n",
       " 'f',\n",
       " 539,\n",
       " 'G',\n",
       " 'nr']"
      ]
     },
     "execution_count": 2,
     "metadata": {},
     "output_type": "execute_result"
    }
   ],
   "source": [
    "from PybeCode import randoms # 可以把 PybeCode 当成一个模块导入的示例\n",
    "a = 10 # a 就是一个变量，这里我们定义了一个变量 a 并给 a 赋予了一个数值10。\n",
    "randoms(n = 10) # randoms 就是一个随机函数，其中括号里的 n 就是这个函数的变量\n",
    "               # randoms 的运营结果是多样的既有数字也有文本，这都代表了差异性的数据类型"
   ]
  },
  {
   "cell_type": "markdown",
   "metadata": {},
   "source": [
    "### §3.2 基础语法"
   ]
  },
  {
   "cell_type": "markdown",
   "metadata": {},
   "source": [
    "前面我们运行了至少4段代码，在感性上对于Python已经有了一些认知。我们也刚刚介绍了几个基础名词。现在，咱们就需要开始正式学习Python的语法了。\n",
    "\n",
    "第一个语法是：数据类型。"
   ]
  },
  {
   "cell_type": "markdown",
   "metadata": {},
   "source": [
    "**数据类型**，一般是指一组相关值以及在这些值上可以执行的操作的集合，通过这些集合来区分不同种类的信息，每种数据类型都有其特定的结构和与之对应的常用操作，例如对于整数，都可以做加减乘除，那么就会有一个特定的类型，叫做“整型”/“整数类型”，加减乘除就是这个类型的基本操作。\n",
    "\n",
    "我们把这个概念扩展开，就有了后面要介绍的这些数据类型。不过为了更好理解，我做了再一次的分类，划分了三个类别，也就是数字类别，字符类别，和混合类别。现在我们来看一下这到底都是些什么东西。"
   ]
  },
  {
   "cell_type": "markdown",
   "metadata": {},
   "source": [
    "**（1）数字类别**\n",
    "\n",
    "可以包含在数字类型里的，必然有整数、有理数、实数这些常见的数学数字。根据实际情况，我们把这些分别归类为，整数类型/整型，以及浮点类型/非整型的两个基本类别。\n",
    "\n",
    "1. **整型（Integer）**：用于表示没有小数部分的数，可以是正数、负数或零。整型通常用于计数和索引。\n",
    "2. **浮点型（Floating-point）**：用于表示有小数部分的数。浮点型可以表示非常大或非常小的数值，但精度一般受限。\n",
    "3. **布尔型（Boolean）**：用于表示逻辑值，通常有两个值：真（`True`）和假（`False`）。这个更接近离散数学的逻辑运算所定义的数学类型。"
   ]
  },
  {
   "cell_type": "code",
   "execution_count": 2,
   "metadata": {},
   "outputs": [
    {
     "name": "stdout",
     "output_type": "stream",
     "text": [
      "65 是 <class 'int'> 类型的。\n",
      "3.1415926 是 <class 'float'> 类型的。\n",
      "True 是 <class 'bool'> 类型的。\n",
      "False 是 <class 'bool'> 类型的。\n"
     ]
    }
   ],
   "source": [
    "aList = [65, 3.1415926, True, False]\n",
    "for i in aList :\n",
    "    print(\"{} 是 {} 类型的。\".format(i, type(i)))"
   ]
  },
  {
   "cell_type": "markdown",
   "metadata": {},
   "source": [
    "`<class 'int'>` 就是指整型数据，`<class 'float'>` 就是指浮点型数据，`<class 'bool'>` 就是指布尔型数据。"
   ]
  },
  {
   "cell_type": "markdown",
   "metadata": {},
   "source": [
    "当然还有一些其他的数字类别的数据类型，比如：复数类型（[complex](https://docs.python.org/3/library/numbers.html#numbers.Complex)）甚至更一般的数字类型（[Number](https://docs.python.org/3/library/numbers.html#numbers.Number)）。在这里我们就不过多介绍了，只是使用频率上各有差异而已，最常用的就是我现在列出来的这三种。"
   ]
  },
  {
   "cell_type": "markdown",
   "metadata": {},
   "source": [
    "**（2）字符类型**\n",
    "\n",
    "字、词、句，组成了我们通常认知的字符，可能还要包含标点符号、数字、一些特别的符号等等，这些在Python中都可以作为字符来看待。由于计算机发展的历史上，是从英语开始的，所以通常的字符就是英文字符，然后是其他西欧字符。最后才是咱们的中文以及其他亚洲语言字符（日语片假名、平假名，韩语字符等）。\n",
    "\n",
    "词或者句，是由字符串联起来的，所以把串连起来的的字符（char）称作字符串（string）。这也是字符类型下最重要的组成部分：\n",
    "\n",
    "1. **字符型（Character）**：用于表示单个字符，如字母、数字或特殊符号。\n",
    "2. **字符串型（String）**：用于表示一系列字符的集合，通常用于处理文本。"
   ]
  },
  {
   "cell_type": "markdown",
   "metadata": {},
   "source": [
    "**（3）混合类型**\n",
    "\n",
    "1. **列表（List）**：\n",
    "2：**词典（Dict）**：\n",
    "3. **函数（Function）**：\n",
    "4. **类型（Class）**："
   ]
  },
  {
   "cell_type": "markdown",
   "metadata": {},
   "source": [
    "**数组（Array）**：用于存储一系列相同类型的数据元素，可以通过索引访问每个元素。\n",
    "\n",
    "7. **结构体（Struct）**：用于将多个不同类型的数据组合成一个单一的数据类型。\n",
    "\n",
    "8. **枚举（Enumeration）**：用于定义一组命名的整数常量，通常用于表示一组固定的选择项。\n",
    "\n",
    "9. **指针（Pointer）**：用于存储变量地址的数据类型，可以通过指针访问或修改存储在该地址的数据。\n",
    "\n",
    "10. **对象（Object）**：在面向对象编程中，对象是类的实例，包含数据（属性）和代码（方法）。\n",
    "\n",
    "11. **函数（Function）**：在某些语言中，函数也可以被视为一种数据类型，因为它可以作为参数传递给其他函数，也可以作为返回值。\n",
    "\n",
    "每种编程语言可能会有自己特定的数据类型，但上述类型在大多数语言中都有所体现。了解和使用正确的数据类型对于编写高效、可读性强的代码至关重要。"
   ]
  },
  {
   "cell_type": "markdown",
   "metadata": {},
   "source": [
    "### §3.xxx 练习与习题"
   ]
  },
  {
   "cell_type": "markdown",
   "metadata": {},
   "source": [
    "请学习本章节的内容后，来做以下习题。"
   ]
  },
  {
   "cell_type": "markdown",
   "metadata": {},
   "source": [
    "**习题一：**\n",
    "\n",
    "基于我们在本章所学到的知识，以及所提供的随机填充单词函数（），来创造一个新的随机填充文本的函数，实现这样一个功能：\n",
    "\n",
    "- 可以输入需要的文本段数；\n",
    "- 定义随机文本的长度。"
   ]
  }
 ],
 "metadata": {
  "kernelspec": {
   "display_name": "Python 3",
   "language": "python",
   "name": "python3"
  },
  "language_info": {
   "codemirror_mode": {
    "name": "ipython",
    "version": 3
   },
   "file_extension": ".py",
   "mimetype": "text/x-python",
   "name": "python",
   "nbconvert_exporter": "python",
   "pygments_lexer": "ipython3",
   "version": "3.11.7"
  }
 },
 "nbformat": 4,
 "nbformat_minor": 2
}
