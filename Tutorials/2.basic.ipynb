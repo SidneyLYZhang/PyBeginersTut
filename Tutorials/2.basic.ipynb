{
 "cells": [
  {
   "cell_type": "markdown",
   "metadata": {},
   "source": [
    "# 第三章 基础语法和数据类型"
   ]
  },
  {
   "cell_type": "markdown",
   "metadata": {},
   "source": [
    "从这里开始，我们就要正式开始Python学习了。但也不要过多担心，我们会从最简单的内容开始。"
   ]
  },
  {
   "cell_type": "markdown",
   "metadata": {},
   "source": [
    "### §3.1 基本语法的基础"
   ]
  },
  {
   "cell_type": "markdown",
   "metadata": {},
   "source": [
    "让我么先来搞清几个基本名词、概念，这是我们在编程，至少是在Python学习中，会经常遇到的基本概念/内容。"
   ]
  },
  {
   "cell_type": "markdown",
   "metadata": {},
   "source": [
    "**1. 变量**\n",
    "\n"
   ]
  },
  {
   "cell_type": "markdown",
   "metadata": {},
   "source": [
    "### §3.xxx 练习与习题"
   ]
  },
  {
   "cell_type": "markdown",
   "metadata": {},
   "source": [
    "请学习本章节的内容后，来做以下习题。"
   ]
  },
  {
   "cell_type": "markdown",
   "metadata": {},
   "source": [
    "**习题一：**\n",
    "\n",
    "基于我们在本章所学到的知识，以及所提供的随机填充单词函数（），来创造一个新的随机填充文本的函数，实现这样一个功能：\n",
    "\n",
    "- 可以输入需要的文本段数；\n",
    "- 定义随机文本的长度。"
   ]
  }
 ],
 "metadata": {
  "kernelspec": {
   "display_name": "Python 3",
   "language": "python",
   "name": "python3"
  },
  "language_info": {
   "name": "python",
   "version": "3.12.2"
  }
 },
 "nbformat": 4,
 "nbformat_minor": 2
}
