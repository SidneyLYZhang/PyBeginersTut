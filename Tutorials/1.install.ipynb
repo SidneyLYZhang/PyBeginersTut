{
 "cells": [
  {
   "cell_type": "markdown",
   "metadata": {},
   "source": [
    "# 第二章 安装与环境配置"
   ]
  },
  {
   "cell_type": "markdown",
   "metadata": {},
   "source": [
    "![PYTHON IDLE](../assets/pics/python-idle.PNG)"
   ]
  },
  {
   "cell_type": "markdown",
   "metadata": {},
   "source": [
    "Python作为一门编程语言，是一定要有编译器的，不过因为Python的解释性编译特点，以及动态类型的特征，这也为它多带来了一个交互编译界面（IDLE Shell/上图所示的界面）。\n",
    "可能看到这里，你会觉得，这是不是安装配置都有点难啊……\n",
    "\n",
    "这种担心倒是大可不必，因为整体安装是很简单的过程。如果你正在使用Linux操作系统，大概率你的系统就已经自带了一个低版本的Python，不考虑版本的话，Linux绝对具有很好的开箱即用Python的能力。\n",
    "\n",
    "当然，我们这里仅针对Windows系统详细介绍安装和配置Python的一些流程。如果你使用Linux或者Mac，在这个章最后的补充信息部分，你能找到相关的安装信息，我们在正文部分就不再过多介绍其他系统的安装事宜了。"
   ]
  },
  {
   "cell_type": "markdown",
   "metadata": {},
   "source": [
    "### §2.1 下载与安装"
   ]
  },
  {
   "cell_type": "markdown",
   "metadata": {},
   "source": [
    "一般教程都是推荐在[Python官网](https://www.python.org/)的[下载区](https://www.python.org/downloads/)下载Windows的安装文件。当然，我也很推荐使用官网下载安装程序，这是最安全的方式，通过官网，也能了解到更多有关Python的信息和发展方向。\n",
    "\n",
    "![python](../assets/pics/python-org.PNG)\n",
    "\n",
    "不过，很多时候在国内网络下载速度时快时慢，尤其是页面打开速度就很慢的时候，更是让人烦躁，这时候，就不得不推荐一个国内公司（Huawei）的镜像站点了： [mirrors python](https://mirrors.huaweicloud.com/python/) 。\n",
    "\n",
    "这个站点有什么好处呢？你可以下载到几乎所有Python版本的安装文件，而且对于国内下载来说，很快速，查找版本也很方便。不过我们这次的教程围绕3.12以上版本进行，所以你可以下载安装[3.12.2的版本](https://mirrors.huaweicloud.com/python/3.12.2/)。那应该下载那个文件来安装呢？对于64位的Windows（通常Windows都是64位操作系统），就是下载`python-3.12.2-arm64.exe`这个文件。"
   ]
  },
  {
   "cell_type": "markdown",
   "metadata": {},
   "source": [
    "下载完成，就可以直接安装了。如果你只打算简单安装上使用，那么只需要在“Add python.exe to PATH”这个选项前打上勾，选择`Install Now`，就可以开始安装了。\n",
    "\n",
    "如果你需要更好的使用体验，那么选择 `Customize installation` 来安装就必不可少了。进入下一个自定义安装界面之后，我们需要选择“为所有人安装”的选项，也需要选择添加python到PATH的选项，这样才能更好的把python安装并使用的更方便。"
   ]
  },
  {
   "cell_type": "markdown",
   "metadata": {},
   "source": [
    "### §2.2 打开Python"
   ]
  },
  {
   "cell_type": "markdown",
   "metadata": {},
   "source": [
    "你可能会问打开还需要学吗？对于部分人来说，确实并不需要。不过也还是有些人之前对于什么是编程语言或者什么是命令行还有很大的疑惑，甚至对于Python这个简陋的交互式解释界面也充满疑惑。所以咱们还是要介绍一下“怎么打开Python”，怎么通过最原始的途径来使用。虽然这个方式并不推荐，但是作为后续很多操作的基础，咱们还是需要了解的。"
   ]
  },
  {
   "cell_type": "markdown",
   "metadata": {},
   "source": [
    "在打开Python之前，第一个问题显然是，IDLE（本章开头的第一张图）是不是Python？\n",
    "\n",
    "答案是：没错，这是Python。但这不完全对。这是Python的交互编译界面，你有很多其他方式也可以启动交互编译界面。比如通过Terminal、shell等途径。\n",
    "\n",
    "那什么是Terminal或者shell呢？\n",
    "\n",
    "Terminal，正式的名称叫终端。单词 Terminal 来源于 terminate，用于表示通信过程的“终端”端。过去，当你提到一个基于文本的工作环境时，你经常会听到\"dumb terminal\"（哑终端）这个词，在这样的环境下，你身旁的计算机只负责接受键盘输入并显示文字输出，而真正的工作发生在另一端的主机或大型计算机上。而现在我们提到的终端，或者叫终端模拟器，依然只是进行接受输入和显示输出的工作，需要处理什么、需要做什么，都需要经过命令（程序）来实现。而命令行，就是你去指定要做什么事情的一条指令，而且这条指令需要有一个明确的指定方（即命令程序）。shell，就代表它的本意，“壳”。就是计算机操作系统内核的壳，它通过一套命令式的语言来理解我们要做的操作，然后指挥内核去完成这个操作。\n",
    "\n",
    "简单来说，Terminal或者shell，都是通过一条条“命令”去实现一些操作的程序。而Python就是需要基于这样的方式来使用。因为Python就是一个辅助我们指挥计算机的工具。"
   ]
  },
  {
   "cell_type": "markdown",
   "metadata": {},
   "source": [
    "那打开Python的第一步，就不是在安装列表中找到“IDLE”，而是找到你机器上的Shell或者Terminal。Linux用户应该会更熟悉Terminal和Shell，因为很多操作甚至安装都是要基于shell的。当然Mac这个从初期就开始学习Unix的操作系统，也是有很便捷的Terminal/终端的。但是对于Windows，可能大家只处在有耳闻，而不常用的一个状态上。"
   ]
  },
  {
   "cell_type": "markdown",
   "metadata": {},
   "source": [
    "这就是我们常常听到的，Windows上的命令提示符（CMD）、PowerShell、Windows Terminal。"
   ]
  },
  {
   "cell_type": "markdown",
   "metadata": {},
   "source": [
    "1. 命令行提示符：\n",
    "\n",
    "![cmd](../assets/pics/CMD.png)"
   ]
  },
  {
   "cell_type": "markdown",
   "metadata": {},
   "source": [
    "2. PowerShell\n",
    "\n",
    "![pwershell](../assets/pics/pwershell.png)"
   ]
  },
  {
   "cell_type": "markdown",
   "metadata": {},
   "source": [
    "3. Windows Terminal\n",
    "\n",
    "![WinTerminal](../assets/pics/windowsterminal.png)"
   ]
  },
  {
   "cell_type": "markdown",
   "metadata": {},
   "source": [
    "怎么看起来都一样呢？确实差不多，但是还是有很大区别的。CMD（命令行提示符），就是Windows下的一个操作命令行工具的入口，比如使用拷贝工具、删除工具等等。PowerShell，则是一种基于 .NET 框架的可以操作计算机系统内核的跨系统程序。是不是很绕？很难懂？没关系，你只需要记住，PowerShell是微软开发的超级增强版Shell，而且还能在各个操作系统使用，就可以了。而Windows Terminal则是一个传统意义上的模拟终端程序，它提供一个统一的、可定制的文本输入，文本展示的环境。\n",
    "\n",
    "一句话概括就是：CMD是个操作入口；PowerShell是个增强Shell；Windows Terminal是个模拟终端程序。"
   ]
  },
  {
   "cell_type": "markdown",
   "metadata": {},
   "source": [
    "找到并打开他们的方法也并不难。最简单的就是，使用Windows的集成搜索，对于Windows11来说位置也很好找：\n",
    "\n",
    "![search-where](../assets/pics/windows搜索_位置.png)\n",
    "\n",
    "![search](../assets/pics/windows搜索.png)"
   ]
  },
  {
   "cell_type": "markdown",
   "metadata": {},
   "source": [
    "CMD最容易，直接搜索就可以找到。对于PowerShell，一般Windows也会自带一个低版本，多数情况下已经足够使用。如果你打算对PowerShell了解更多。则可以安装一下Power Shell的 [最新版本](https://learn.microsoft.com/zh-cn/powershell/scripting/overview?view=powershell-7.4) ，但在这里我们就不过多展开PowerShell内容了。\n",
    "\n",
    "Windows Terminal却不是Windows自带的。如果希望给命令行工具提供一个更好看的使用环境，那还是需要安装Terminal的，我们可以直接通过 [Windows Store](https://www.microsoft.com/store/productId/9N0DX20HK701?ocid=pdpshare) 进行安装。安装好之后，打开Windows Terminal会默认打开PowerShell或者CMD，所以通过Terminal也是一个快速管理命令行环境的方式。"
   ]
  },
  {
   "cell_type": "markdown",
   "metadata": {},
   "source": [
    "到这里我们就能比较轻松的打开并基本的使用Python了。让我们先来检查一下安装的是否正确。\n",
    "\n",
    "```shell\n",
    "python --version\n",
    "```\n",
    "\n",
    "在任意你喜欢的命令行终端上，输入上述命令，并回车，如果安装顺利，现在你应该可以看到类似的场景：\n",
    "\n",
    "![pyvers](../assets/pics/pythonvers.png)"
   ]
  },
  {
   "cell_type": "markdown",
   "metadata": {},
   "source": [
    "去掉`--version`这段字符，再回车，你就正式进入了Python的交互界面。但这个使用方法使用Python，还是挺复杂，我们的每一步操作都需要在文本编辑器中提前写好，还要粘贴对应代码到交互界面来运行。那有没有一些比较好的处理途径呢？"
   ]
  },
  {
   "cell_type": "markdown",
   "metadata": {},
   "source": [
    "也有可能，你没有成功，不过不要担心，接下来，咱们就要来解决这些问题了。"
   ]
  },
  {
   "cell_type": "markdown",
   "metadata": {},
   "source": [
    "### §2.3 配置Python的使用环境"
   ]
  },
  {
   "cell_type": "markdown",
   "metadata": {},
   "source": [
    "让Python好用一些，这就是这部分我们需要集中解决的问题。"
   ]
  },
  {
   "cell_type": "markdown",
   "metadata": {},
   "source": [
    "首先，我们先要把一些必要的信息告诉操作系统(Windows)，这样才能更好的让Python为我们干活。"
   ]
  },
  {
   "cell_type": "markdown",
   "metadata": {},
   "source": [
    "让我们使用以下步骤打开环境变量管理器：\n",
    "\n",
    "`开始` → `设置` → `系统` → `系统信息` → `高级系统设置` → `环境变量`\n",
    "\n",
    "![eva](../assets/pics/epath.png)"
   ]
  },
  {
   "cell_type": "markdown",
   "metadata": {},
   "source": [
    "```shell\n",
    "python -m pip config set global.index-url https://mirrors.aliyun.com/pypi/simple/\n",
    "python -m pip config set install.trusted-host https://mirrors.aliyun.com/\n",
    "```\n",
    "\n",
    "https://developer.aliyun.com/mirror/pypi"
   ]
  },
  {
   "cell_type": "markdown",
   "metadata": {},
   "source": [
    "### §2.4 一些参考"
   ]
  },
  {
   "cell_type": "markdown",
   "metadata": {},
   "source": [
    "### §2.5 一些参考"
   ]
  },
  {
   "cell_type": "markdown",
   "metadata": {},
   "source": [
    "[Windows Terminal](https://learn.microsoft.com/zh-cn/windows/terminal/)"
   ]
  },
  {
   "cell_type": "markdown",
   "metadata": {},
   "source": [
    "### §2.6 练习与习题"
   ]
  },
  {
   "cell_type": "markdown",
   "metadata": {},
   "source": [
    "这次不是一个必要的作业，但通过这个练习可以保证自己在初步使用Python上获得足够的经验。也能获取一些必要的成就感。让我们可以把Python的入门学习更好的继续下去。"
   ]
  },
  {
   "cell_type": "markdown",
   "metadata": {},
   "source": [
    "**习题1：**\n",
    "\n",
    "在任意命令行工具中，逐一运行以下命令：\n",
    "\n",
    "```shell\n",
    "python -c \"import this\"\n",
    "```\n",
    "\n",
    "可以仔细阅读/观察一下运行之后产生的内容。"
   ]
  },
  {
   "cell_type": "markdown",
   "metadata": {},
   "source": [
    "**习题2：**\n",
    "\n",
    "现在我们来做一点不一样的 `Hello World` 行为。可以选择我们上面安装的Jupyter Notebook来运行，或者把对应代码写到一个 `.py` 文件，使用Python来运行，当然也可以复制到IDLE中运行。\n",
    "\n",
    "当然向达到目标，还需要根据注释填写一下对应信息，然后运行的结果就可以在你的邮箱中看到。"
   ]
  },
  {
   "cell_type": "markdown",
   "metadata": {},
   "source": [
    "```python\n",
    "# 导入库和必要方法\n",
    "import re\n",
    "import smtplib\n",
    "from email.message import EmailMessage\n",
    "from email.headerregistry import Address\n",
    "\n",
    "# 发件人邮箱：请填写公司邮箱\n",
    "mail_sender = \"your.name@mail.mail\"\n",
    "# 发件人姓名：可改可不改\n",
    "mail_name = None\n",
    "# 邮箱密码：请填写你的密码或者授权码\n",
    "mail_passwords = \"passwords\"\n",
    "# 邮箱SMTP：如果使用QQ企业邮箱，则无须修改\n",
    "mail_SMTP = \"smtp.exmail.qq.com\"\n",
    "# 邮箱SMTP端口：如果使用QQ企业邮箱，则无须修改\n",
    "mail_PORT = 465\n",
    "\n",
    "# 格式化邮件地址\n",
    "def addrsFormat(mailaddr, disname = None):\n",
    "    name = re.split(\"@|\\.\",mailaddr)[1] if disname is None else disname\n",
    "    return Address(display_name=name, addr_spec=mailaddr)\n",
    "\n",
    "# 创建邮件\n",
    "msg = EmailMessage()\n",
    "msg['Subject'] = \"Hallo There\"\n",
    "msg[\"From\"] = addrsFormat(mail_sender, disname = mail_name)\n",
    "msg[\"To\"] = addrsFormat(mail_sender, disname = mail_name)\n",
    "msg[\"Cc\"] = addrsFormat(\"zly@lyzhang.me\", disname = \"张良益\")\n",
    "msg.set_content(\"\"\"\\\n",
    "Hi there！\n",
    "    Python安装成功了！恭喜！\n",
    "\n",
    "> From Python email !\n",
    "\"\"\")\n",
    "\n",
    "# 发送邮件\n",
    "try:\n",
    "    with smtplib.SMTP_SSL(host=mail_SMTP, port=mail_PORT) as servers :\n",
    "        servers.ehlo(\"touchNow\")\n",
    "        servers.login(mail_sender, mail_passwords)\n",
    "        servers.send_message(msg)\n",
    "    print(\"Hello There! \\n\\t邮件发送成功啦！\")\n",
    "except smtplib.SMTPException as e:\n",
    "    print(e)\n",
    "```"
   ]
  }
 ],
 "metadata": {
  "kernelspec": {
   "display_name": "Python 3",
   "language": "python",
   "name": "python3"
  },
  "language_info": {
   "codemirror_mode": {
    "name": "ipython",
    "version": 3
   },
   "file_extension": ".py",
   "mimetype": "text/x-python",
   "name": "python",
   "nbconvert_exporter": "python",
   "pygments_lexer": "ipython3",
   "version": "3.11.7"
  }
 },
 "nbformat": 4,
 "nbformat_minor": 2
}
