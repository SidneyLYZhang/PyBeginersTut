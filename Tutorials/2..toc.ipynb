{
 "cells": [
  {
   "cell_type": "markdown",
   "metadata": {},
   "source": [
    "# 第三章 基础语法和数据类型"
   ]
  },
  {
   "cell_type": "markdown",
   "metadata": {},
   "source": [
    "#### 目录"
   ]
  },
  {
   "cell_type": "markdown",
   "metadata": {},
   "source": [
    "**Part 01 ： 基础知识**\n",
    "\n",
    "介绍一些最为基本的概念。 ………… [基础](https://nbviewer.org/github/SidneyLYZhang/PyBeginersTut/tree/main/Tutorials/2.0.basic.ipynb)"
   ]
  },
  {
   "cell_type": "markdown",
   "metadata": {},
   "source": [
    "**Part 02 ： 列表与字典**\n",
    "\n",
    "介绍最常用的基本数据结构。 ………… [列表与字典](https://nbviewer.org/github/SidneyLYZhang/PyBeginersTut/tree/main/Tutorials/2.1.list_and_dict.ipynb)"
   ]
  },
  {
   "cell_type": "markdown",
   "metadata": {},
   "source": [
    "**Part 03 ： 函数与类型**\n",
    "\n",
    "把行为进行抽象，把目标进行抽象。 ………… [函数与类型](-)"
   ]
  }
 ],
 "metadata": {
  "kernelspec": {
   "display_name": "Python 3",
   "language": "python",
   "name": "python3"
  },
  "language_info": {
   "name": "python",
   "version": "3.11.7"
  }
 },
 "nbformat": 4,
 "nbformat_minor": 2
}
