{
 "cells": [
  {
   "cell_type": "markdown",
   "metadata": {},
   "source": [
    "# 第三章 基础语法和数据类型"
   ]
  },
  {
   "cell_type": "markdown",
   "metadata": {},
   "source": [
    "从这里开始，我们就要正式开始Python学习了。但也不要过多担心，我们会从最简单的内容开始。"
   ]
  },
  {
   "cell_type": "markdown",
   "metadata": {},
   "source": [
    "### §3.1 基本语法的基础"
   ]
  },
  {
   "cell_type": "markdown",
   "metadata": {},
   "source": [
    "让我么先来搞清几个基本名词、概念，这是我们在编程，至少是在Python学习中，会经常遇到的基本概念/内容。"
   ]
  },
  {
   "cell_type": "markdown",
   "metadata": {},
   "source": [
    "1. 变量：用于代表并存储一个数据的标识符。这个可以类比数学公式中的`x`、`y`、`f`这类变量来理解。\n",
    "2. 数据类型：就是指某一个变量，它所代表的数据是什么类型的，比如说，数字类型或者文本类型（请注意这两个类型不是准确的说法）。\n",
    "3. 输入输出：和计算机的互动方式，鼠标、键盘都是常用的输入设备，输出设备就是显示器。对于程序而言，输入输出就是字符和输出的文字/图像。\n",
    "4. 函数：一段代码组成的程序片段，可以用来实现某一些特定的目标。理解成数学函数也完全没什么问题。\n",
    "5. 错误处理：代码难免出差错，提前考虑会出现的错误，并针对性的处理就是错误处理。\n",
    "6. 库/添加包：也就是Package/包，通过包可以扩展程序的使用便利性，很多功能也可以基于此快速完成一些复杂的能力，你可以把它想象成好用的工具箱就可以。"
   ]
  },
  {
   "cell_type": "code",
   "execution_count": 6,
   "metadata": {},
   "outputs": [],
   "source": [
    "# 先设定一下基本环境\n",
    "import os \n",
    "import sys # import是标准的引入包的方法，这里 os 和 sys 都是官方自带的包。\n",
    "module_path = os.path.abspath(os.path.join('..'))\n",
    "if module_path not in sys.path :\n",
    "    sys.path.append(module_path)"
   ]
  },
  {
   "cell_type": "markdown",
   "metadata": {},
   "source": [
    "上面这段代码把当前的运行环做了一些设定，让我们可以更好的把我们在这个教程中所需要的一些模块/函数更顺利的添加进来。"
   ]
  },
  {
   "cell_type": "code",
   "execution_count": null,
   "metadata": {},
   "outputs": [
    {
     "data": {
      "text/plain": [
       "[626,\n",
       " '*',\n",
       " 56,\n",
       " 'toe',\n",
       " 'skill',\n",
       " 1.0884165752606192,\n",
       " 'asoznxhdwuyw',\n",
       " 'q',\n",
       " 'lpjwcxeth',\n",
       " '9']"
      ]
     },
     "execution_count": 7,
     "metadata": {},
     "output_type": "execute_result"
    }
   ],
   "source": [
    "from PybeCode import randoms # 可以把 PybeCode 当成一个模块导入的示例\n",
    "a = 10 # a 就是一个变量，这里我们定义了一个变量 a 并给 a 赋予了一个数值10。\n",
    "randoms(n = 10) # randoms 就是一个随机函数，其中括号里的 n 就是这个函数的变量\n",
    "                # randoms 的运营结果是多样的既有数字也有文本，这都代表了差异性的数据类型"
   ]
  },
  {
   "cell_type": "markdown",
   "metadata": {},
   "source": [
    "### §3.2 基础语法"
   ]
  },
  {
   "cell_type": "markdown",
   "metadata": {},
   "source": [
    "前面我们运行了至少4段代码，在感性上对于Python已经有了一些认知。上面也介绍了几个基础名词。现在，咱们就需要开始正式学习Python的语法了。\n",
    "\n",
    "第一个语法是：数据类型。"
   ]
  },
  {
   "cell_type": "markdown",
   "metadata": {},
   "source": [
    "**数据类型**，一般是指一组相关值以及在这些值上可以执行的操作的集合，通过这些集合来区分不同种类的信息，每种数据类型都有其特定的结构和与之对应的常用操作，例如对于整数，都可以做加减乘除，那么就会有一个特定的类型，叫做“整型”/“整数类型”，加减乘除就是这个类型的基本操作。\n",
    "\n",
    "我们把这个概念扩展开，就有了后面要介绍的这些数据类型。不过为了更好理解，我做了再一次的分类，划分了三个类别，也就是数字类别，字符类别，和混合类别。现在我们来看一下这到底都是些什么东西。"
   ]
  },
  {
   "cell_type": "markdown",
   "metadata": {},
   "source": [
    "**（1）数字类别**\n",
    "\n",
    "可以包含在数字类型里的，必然有整数、有理数、实数这些常见的数学数字。根据实际情况，我们把这些分别归类为，整数类型/整型，以及浮点类型/非整型的两个基本类别。\n",
    "\n",
    "1. **整型（Integer）**：用于表示没有小数部分的数，可以是正数、负数或零。整型通常用于计数和索引。\n",
    "2. **浮点型（Floating-point）**：用于表示有小数部分的数。浮点型可以表示非常大或非常小的数值，但精度一般受限。\n",
    "3. **布尔型（Boolean）**：用于表示逻辑值，通常有两个值：真（`True`）和假（`False`）。这个更接近离散数学的逻辑运算所定义的数学类型。"
   ]
  },
  {
   "cell_type": "code",
   "execution_count": 8,
   "metadata": {},
   "outputs": [
    {
     "name": "stdout",
     "output_type": "stream",
     "text": [
      "65 是 <class 'int'> 类型的。\n",
      "3.1415926 是 <class 'float'> 类型的。\n",
      "True 是 <class 'bool'> 类型的。\n",
      "False 是 <class 'bool'> 类型的。\n"
     ]
    }
   ],
   "source": [
    "aList = [65, 3.1415926, True, False]\n",
    "for i in aList :\n",
    "    print(\"{} 是 {} 类型的。\".format(i, type(i)))"
   ]
  },
  {
   "cell_type": "markdown",
   "metadata": {},
   "source": [
    "`<class 'int'>` 就是指整型数据，`<class 'float'>` 就是指浮点型数据，`<class 'bool'>` 就是指布尔型数据。"
   ]
  },
  {
   "cell_type": "markdown",
   "metadata": {},
   "source": [
    "当然还有一些其他的数字类别的数据类型，比如：复数类型（[complex](https://docs.python.org/3/library/numbers.html#numbers.Complex)）甚至更一般的数字类型（[Number](https://docs.python.org/3/library/numbers.html#numbers.Number)）。在这里我们就不过多介绍了，只是使用频率上各有差异而已，最常用的就是我现在列出来的这三种（整型、浮点、布尔）。"
   ]
  },
  {
   "cell_type": "markdown",
   "metadata": {},
   "source": [
    "除了布尔型数据，其他数字类型在Python中都可以进行加减乘除等各类基本数学运算。"
   ]
  },
  {
   "cell_type": "code",
   "execution_count": 9,
   "metadata": {},
   "outputs": [
    {
     "name": "stdout",
     "output_type": "stream",
     "text": [
      "66.141592653\n",
      "59.858407346999996\n",
      "12468.981239757\n",
      "20.0535228333436\n"
     ]
    }
   ],
   "source": [
    "a = 63\n",
    "b = 3.141592653\n",
    "\n",
    "print(a + b)\n",
    "print(a - b)\n",
    "print(a ** 2 * b) # pi * r ^ 2\n",
    "print(a / b)"
   ]
  },
  {
   "cell_type": "markdown",
   "metadata": {},
   "source": [
    "这里有一个小小的额外表达，就是幂运算，在Python中并不是使用 `^` 符号或者其他方式表示计算的，而是使用 `**` 两个星号来表示幂运算。对于开根号或者求解方根，也是使用幂运算符号。这也是对数学幂运算的一种直接应用。"
   ]
  },
  {
   "cell_type": "markdown",
   "metadata": {},
   "source": [
    "对于布尔型数值，我这里要特别提醒一下，请尽量使用单纯的 `True` 和 `False` ，不要做代数运算，但可以使用逻辑运算关系进行计算，例如： `and` 、`or` 和 `not` 。"
   ]
  },
  {
   "cell_type": "code",
   "execution_count": 10,
   "metadata": {},
   "outputs": [
    {
     "name": "stdout",
     "output_type": "stream",
     "text": [
      "False\n",
      "True\n",
      "False\n"
     ]
    }
   ],
   "source": [
    "a = True\n",
    "print(False and a)\n",
    "print(False or a)\n",
    "print(not a)"
   ]
  },
  {
   "cell_type": "markdown",
   "metadata": {},
   "source": [
    "**（2）字符类型**\n",
    "\n",
    "字、词、句，组成了我们通常认知的字符，可能还要包含标点符号、数字、一些特别的符号等等，这些在Python中都可以作为字符来看待。由于计算机发展的历史上，是从英语开始的，所以通常的字符就是英文字符，然后是其他西欧字符。最后才是咱们的中文以及其他亚洲语言字符（日语片假名、平假名，韩语字符等）。\n",
    "\n",
    "词或者句，是由字符串联起来的，所以把串连起来的的字符（char）称作字符串（string）。这也是字符类型下最重要的组成部分：\n",
    "\n",
    "1. **字符型（Character）**：用于表示单个字符，如字母、数字或特殊符号。\n",
    "2. **字符串型（String）**：用于表示一系列字符的集合，通常用于处理文本。\n",
    "\n",
    "在Python中，字符、字符串的区隔不是十分明显，甚至我们是可以一起考虑字符和字符串的。这也是Python的一种优势（[语法糖](https://baike.baidu.com/item/%E8%AF%AD%E6%B3%95%E7%B3%96/5247005)）."
   ]
  },
  {
   "cell_type": "markdown",
   "metadata": {},
   "source": [
    "对于字符类型的数据，在Python中最需要注意的就是，编码方式。而不是字符本身。一方面，Python很好的处理了亚洲语言和西欧字符之间的字符问题，例如 `我` 是一个字符。`I` 是一个字符。而在有些编程语言（Rust或者C语言）中，中文是默认两个字符，但在Python中并没有这个限定，一个中文单字就是一个字符。"
   ]
  },
  {
   "cell_type": "code",
   "execution_count": 11,
   "metadata": {},
   "outputs": [
    {
     "name": "stdout",
     "output_type": "stream",
     "text": [
      "8\n"
     ]
    }
   ],
   "source": [
    "a = \"我很Happy！\" # 请数数有多少字符？\n",
    "print(len(a))"
   ]
  },
  {
   "cell_type": "markdown",
   "metadata": {},
   "source": [
    "那么为了准确的把这个中英文混合下的字符串长度表达清晰，我们是需要依赖编码的。这里我们只需要记住一点，无特殊情况，Python都是使用 `UTF-8` 。那么，为什么要这么选择？官方给出了一个[完整的说明](https://docs.python.org/zh-cn/3/howto/unicode.html)。简单来说，就是`UTF-8`编码可以覆盖几乎所有字符，并且兼容性也很不错，也有很不错的错误检测能力。\n",
    "\n",
    "这一点可能在文件读取的时候，对我们的影响最大，平常使用对于编码是没有任何感知的。所以，请放心，这一点也并不困难。"
   ]
  },
  {
   "cell_type": "markdown",
   "metadata": {},
   "source": [
    "这里，我们要特别注意一点，字符串的实用既可以使用英文的双引号，也可以使用英文单引号来标识。在混合使用时，需要注意单引号和双引号的配对。"
   ]
  },
  {
   "cell_type": "markdown",
   "metadata": {},
   "source": [
    "字符是不是就是这些了呢？只是我们用得上的，只有这些。因为我们常用的并未字符串，而是内容的格式化输出。那什么是格式化输出呢？\n",
    "\n",
    "比如：“我们常说的你工资多少？7k。”这其中的`7k`就是我们对于7000的一个格式化输出。在实际使用中，我们面对的更多的则是，取整、百分数、科学计数、补零等等内容的数字格式化。"
   ]
  },
  {
   "cell_type": "code",
   "execution_count": 12,
   "metadata": {},
   "outputs": [
    {
     "name": "stdout",
     "output_type": "stream",
     "text": [
      "1.235\n",
      "12.35%\n",
      "87,654,321.12\n"
     ]
    }
   ],
   "source": [
    "x = 1.2345678\n",
    "print(\"{:.3f}\".format(x))\n",
    "\n",
    "x = 0.12345678\n",
    "print(\"{:.2%}\".format(x))\n",
    "\n",
    "x = 87654321.12345678\n",
    "print(\"{:,.2f}\".format(x))"
   ]
  },
  {
   "cell_type": "markdown",
   "metadata": {},
   "source": [
    "对于时间，同样有格式化问题，不过，这个我们在之后章节会专门介绍，这里需要记住一点就是，时间、日期同样在作为结果输出时存在格式化的问题。"
   ]
  },
  {
   "cell_type": "markdown",
   "metadata": {},
   "source": [
    "**（3）混合类型**\n",
    "\n",
    "1. **列表（List）**：用于构建元素集合，可以用于存储不同类型的数据，且元素可变。\n",
    "2. **词典（Dict）**：一个无序的键值对集合（ $\\{Key:Value\\}_n$ ），键必须是不可变类型，且每个键值对的键是唯一的。\n",
    "3. **函数（Function）**：一段可重复使用的代码块（方法，计算逻辑，状态行为），它可以接受输入参数并返回结果。\n",
    "4. **类型（Class）**：创建对象的蓝图，它定义了对象的属性和方法，实例化后形成具体的对象，也就是数值和方法的集合。\n",
    "\n",
    "是不是看起来有点晕头转向？没关系。后面我们会有更多的介绍。\n",
    "\n",
    "现阶段需要记清楚的是，列表类似序列，词典就是键值对照的记录，函数是一组运算，类型是一系列运算和数值组成的集合。"
   ]
  },
  {
   "cell_type": "markdown",
   "metadata": {},
   "source": [
    "### §3.3 一些参考\n",
    "\n",
    "**（1）关于布尔代数**\n",
    "\n",
    "为什么Python的布尔型运算与真实的布尔代数有较大区别？一方面，布尔型数值在Python中是一个对整型的另类包装，这一方面带来一些好处，例如用于条件判断的时候会简单一些（但可能缺乏可读性），更多的，其实是与数学布尔代数之间的差异所带来的运算错位。布尔代数依然是符合代数集的一些基本规则的，例如：交换律，结合律等等。但更重要的是，因为布尔代数只有两个值，所以在加减乘除的代数运算中， `True + True = True` 这样的计算被Python做了正整数的扩展导致很多运算错位。例如：`True + True + False = False` 在Python中就还代表`True`。我们不继续展开这种错位了，只需要知道，Python实现了一部分的布尔代数，并把这部分命名为布尔型数值，核心还是改变了的整型数值。如有兴趣可以看看以下参考/扩展内容。\n",
    "\n",
    "通过南京大学的 [这个布尔代数笔记](http://ws.nju.edu.cn/courses/dm/courseware/20150504-Boolean_Algebra.pdf) 可以获得一些对于布尔代数粗浅的了解。当然，如果你有更多的时间，我更推荐KH. Rosen的[《离散数学及其应用》](https://github.com/QSCTech/zju-icicles/raw/master/%E7%A6%BB%E6%95%A3%E6%95%B0%E5%AD%A6%E5%8F%8A%E5%85%B6%E5%BA%94%E7%94%A8/%E6%95%99%E6%9D%90/Discrete%20mathematics%20and%20its%20applications%20by%20Rosen%2C%20Kenneth%20H%20%288th%20Edition%29.pdf) 这本书。"
   ]
  },
  {
   "cell_type": "code",
   "execution_count": 13,
   "metadata": {},
   "outputs": [
    {
     "data": {
      "text/plain": [
       "False"
      ]
     },
     "execution_count": 13,
     "metadata": {},
     "output_type": "execute_result"
    }
   ],
   "source": [
    "True + True + False == False"
   ]
  },
  {
   "cell_type": "markdown",
   "metadata": {},
   "source": [
    "参考文献：\n",
    "\n",
    "1. Rosen, Kenneth H. \"Discrete Mathematics and Its Applications.\" (2019)."
   ]
  },
  {
   "cell_type": "markdown",
   "metadata": {},
   "source": [
    "### §3.4 练习与习题"
   ]
  },
  {
   "cell_type": "markdown",
   "metadata": {},
   "source": [
    "请学习本章节的内容后，来做以下习题。"
   ]
  },
  {
   "cell_type": "markdown",
   "metadata": {},
   "source": [
    "**习题一：**\n",
    "\n",
    "基于我们在前面所学到的知识，让我们用Python完成以下几种计算，并验证一下你的计算。\n",
    "\n",
    "1. 计算这个算式  $\\sqrt[3]{12.34} + \\frac{45}{5} - \\pi$ : 这里我给一个提示，就是 $\\pi$ 的值，使用 `math.pi` 来获取$pi$的真实值，`math` 是一个数学基本包，需要在代码的最前面使用 `import math` 来加载这个包。\n",
    "2. 计算下面这个算式 $2 \\times 3.45 + \\sin{90}$ : 这里也有一个小提示，就是三角函数也在 `math` 这个包中。\n",
    "\n",
    "**习题二：**\n",
    "\n",
    "请思考以下代码，及其输出的结果，并把你的思考写下来。"
   ]
  },
  {
   "cell_type": "code",
   "execution_count": 2,
   "metadata": {},
   "outputs": [
    {
     "name": "stdout",
     "output_type": "stream",
     "text": [
      "Python\n",
      "is\n",
      "a\n",
      "programming\n",
      "language\n",
      "that\n",
      "lets\n",
      "you\n",
      "work\n",
      "quickly\n",
      "and\n",
      "integrate\n",
      "systems\n",
      "more\n",
      "effectively\n"
     ]
    }
   ],
   "source": [
    "# 2.1 \n",
    "\n",
    "txt = \"Python is a programming language that lets you work quickly and integrate systems more effectively.\"\n",
    "\n",
    "for i in txt.split(\" \"):\n",
    "    if '.' in i:\n",
    "        print(i[:-1])\n",
    "    else :\n",
    "        print(i)"
   ]
  },
  {
   "cell_type": "markdown",
   "metadata": {},
   "source": [
    "你的思考是？\n",
    "\n"
   ]
  },
  {
   "cell_type": "code",
   "execution_count": 4,
   "metadata": {},
   "outputs": [
    {
     "name": "stdout",
     "output_type": "stream",
     "text": [
      "HELLO WORLD\n",
      "hello world\n",
      "Hello World\n",
      "Hello world\n",
      "Hello World!\n"
     ]
    }
   ],
   "source": [
    "# 2.2\n",
    "\n",
    "txt = \"Hello World\"\n",
    "\n",
    "print(txt.upper())\n",
    "print(txt.lower())\n",
    "print(txt.title())\n",
    "print(txt.capitalize())\n",
    "\n",
    "print(txt.title() + \"!\")"
   ]
  },
  {
   "cell_type": "markdown",
   "metadata": {},
   "source": [
    "你的思考是？\n",
    "\n"
   ]
  }
 ],
 "metadata": {
  "kernelspec": {
   "display_name": "Python 3",
   "language": "python",
   "name": "python3"
  },
  "language_info": {
   "codemirror_mode": {
    "name": "ipython",
    "version": 3
   },
   "file_extension": ".py",
   "mimetype": "text/x-python",
   "name": "python",
   "nbconvert_exporter": "python",
   "pygments_lexer": "ipython3",
   "version": "3.11.7"
  }
 },
 "nbformat": 4,
 "nbformat_minor": 2
}
